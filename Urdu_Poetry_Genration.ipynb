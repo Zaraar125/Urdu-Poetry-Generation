{
 "cells": [
  {
   "cell_type": "markdown",
   "id": "79134379",
   "metadata": {},
   "source": [
    "## Zaraar Malik\n",
    "## i212705@nu.edu.pk"
   ]
  },
  {
   "cell_type": "markdown",
   "id": "eaceaa0e",
   "metadata": {},
   "source": [
    "## IMPORTING NECESSARY LIBRARIES"
   ]
  },
  {
   "cell_type": "code",
   "execution_count": 1,
   "id": "d4759fa9",
   "metadata": {},
   "outputs": [],
   "source": [
    "import random\n",
    "import spacy\n",
    "import pandas as pd\n",
    "import numpy as np"
   ]
  },
  {
   "cell_type": "markdown",
   "id": "812c5207",
   "metadata": {},
   "source": [
    "## READING CSV FILE WITH SCRAPPED POEMS"
   ]
  },
  {
   "cell_type": "code",
   "execution_count": 2,
   "id": "07ef9fe6",
   "metadata": {},
   "outputs": [],
   "source": [
    "data=pd.read_csv('scrapped_poems.csv',usecols= ['poem_line','nazm_name','author_name'])"
   ]
  },
  {
   "cell_type": "markdown",
   "id": "13ff84c8",
   "metadata": {},
   "source": [
    "## DATAFRAME"
   ]
  },
  {
   "cell_type": "code",
   "execution_count": 3,
   "id": "d76bd6f6",
   "metadata": {},
   "outputs": [
    {
     "data": {
      "text/html": [
       "<div>\n",
       "<style scoped>\n",
       "    .dataframe tbody tr th:only-of-type {\n",
       "        vertical-align: middle;\n",
       "    }\n",
       "\n",
       "    .dataframe tbody tr th {\n",
       "        vertical-align: top;\n",
       "    }\n",
       "\n",
       "    .dataframe thead th {\n",
       "        text-align: right;\n",
       "    }\n",
       "</style>\n",
       "<table border=\"1\" class=\"dataframe\">\n",
       "  <thead>\n",
       "    <tr style=\"text-align: right;\">\n",
       "      <th></th>\n",
       "      <th>poem_line</th>\n",
       "      <th>nazm_name</th>\n",
       "      <th>author_name</th>\n",
       "    </tr>\n",
       "  </thead>\n",
       "  <tbody>\n",
       "    <tr>\n",
       "      <th>0</th>\n",
       "      <td>رگوں میں دوڑتا پھرتا لہو پھر تھم گیا ہے</td>\n",
       "      <td>برأت</td>\n",
       "      <td>عابد ادیب</td>\n",
       "    </tr>\n",
       "    <tr>\n",
       "      <th>1</th>\n",
       "      <td>ہوائیں تیز ہیں سانسوں کی ہلچل رک گئی ہے</td>\n",
       "      <td>برأت</td>\n",
       "      <td>عابد ادیب</td>\n",
       "    </tr>\n",
       "    <tr>\n",
       "      <th>2</th>\n",
       "      <td>ریڑھ کی ہڈی میں چیونٹی رینگتی ہے</td>\n",
       "      <td>برأت</td>\n",
       "      <td>عابد ادیب</td>\n",
       "    </tr>\n",
       "    <tr>\n",
       "      <th>3</th>\n",
       "      <td>جسم میں پورے حرارت بڑھ گئی ہے</td>\n",
       "      <td>برأت</td>\n",
       "      <td>عابد ادیب</td>\n",
       "    </tr>\n",
       "    <tr>\n",
       "      <th>4</th>\n",
       "      <td>ذائقہ کڑوا کسیلا ہو گیا ہے</td>\n",
       "      <td>برأت</td>\n",
       "      <td>عابد ادیب</td>\n",
       "    </tr>\n",
       "  </tbody>\n",
       "</table>\n",
       "</div>"
      ],
      "text/plain": [
       "                                 poem_line nazm_name author_name\n",
       "0  رگوں میں دوڑتا پھرتا لہو پھر تھم گیا ہے     برأت   عابد ادیب\n",
       "1  ہوائیں تیز ہیں سانسوں کی ہلچل رک گئی ہے     برأت   عابد ادیب\n",
       "2         ریڑھ کی ہڈی میں چیونٹی رینگتی ہے     برأت   عابد ادیب\n",
       "3            جسم میں پورے حرارت بڑھ گئی ہے     برأت   عابد ادیب\n",
       "4               ذائقہ کڑوا کسیلا ہو گیا ہے     برأت   عابد ادیب"
      ]
     },
     "execution_count": 3,
     "metadata": {},
     "output_type": "execute_result"
    }
   ],
   "source": [
    "data.head()"
   ]
  },
  {
   "cell_type": "markdown",
   "id": "2d9dad59",
   "metadata": {},
   "source": [
    "## DATAFRAME SIZE"
   ]
  },
  {
   "cell_type": "code",
   "execution_count": 4,
   "id": "e6afdbc7",
   "metadata": {},
   "outputs": [
    {
     "data": {
      "text/plain": [
       "(1856, 3)"
      ]
     },
     "execution_count": 4,
     "metadata": {},
     "output_type": "execute_result"
    }
   ],
   "source": [
    "data.shape"
   ]
  },
  {
   "cell_type": "markdown",
   "id": "3287c9f6",
   "metadata": {},
   "source": [
    "## TOTAL NUMBER OF AUTHORS"
   ]
  },
  {
   "cell_type": "code",
   "execution_count": 5,
   "id": "2558c28e",
   "metadata": {},
   "outputs": [
    {
     "data": {
      "text/plain": [
       "30"
      ]
     },
     "execution_count": 5,
     "metadata": {},
     "output_type": "execute_result"
    }
   ],
   "source": [
    "len(data['author_name'].unique())"
   ]
  },
  {
   "cell_type": "markdown",
   "id": "fffbc6b8",
   "metadata": {},
   "source": [
    "## NECESSARY FUNCTIONS "
   ]
  },
  {
   "cell_type": "code",
   "execution_count": 63,
   "id": "a8a1f4b1",
   "metadata": {},
   "outputs": [],
   "source": [
    "def tokenize_poem_lines(dataframe_series):\n",
    "    poem_lines_tokenized=[]\n",
    "    spacy_tokenizer = spacy.blank('ur')\n",
    "    for i in dataframe_series:\n",
    "        poem_lines_tokenized.append(list(spacy_tokenizer(i)))\n",
    "    return poem_lines_tokenized\n",
    "\n",
    "def Generate_Bigrams(dataframe_series):\n",
    "    spacy_tokenizer = spacy.blank('ur')\n",
    "    Bigrams=[]\n",
    "    for i in dataframe_series:\n",
    "        holder=[spacy_tokenizer(i[j].text+' '+i[j+1].text) for j in range(len(i)-1)]\n",
    "        Bigrams.append(holder)\n",
    "    return Bigrams\n",
    "\n",
    "def Generate_Trigrams(dataframe_series):\n",
    "    spacy_tokenizer = spacy.blank('ur')\n",
    "    Trigrams=[]\n",
    "    for i in dataframe_series:\n",
    "        holder=[spacy_tokenizer(i[j].text+' '+i[j+1].text+' '+i[j+2].text) for j in range(len(i)-2)]\n",
    "        Trigrams.append(holder)\n",
    "    return Trigrams\n",
    "\n",
    "def Remove_StopWords(dataframe_series,bigram_flag=False,trigram_flag=False):\n",
    "    Removed_Stopwords=[]\n",
    "    if bigram_flag==False and trigram_flag==False:\n",
    "        for i in dataframe_series:\n",
    "            filtered_tokens = [token.text for token in i if not token.is_stop]\n",
    "            Removed_Stopwords.append(filtered_tokens)\n",
    "        return Removed_Stopwords\n",
    "    elif bigram_flag==True:\n",
    "        for i in dataframe_series:\n",
    "            filtered_tokens =[token.text for token in i if not token[0].is_stop or token[1].is_stop]\n",
    "            Removed_Stopwords.append(filtered_tokens)\n",
    "        return Removed_Stopwords\n",
    "    elif trigram_flag==True:\n",
    "        for i in dataframe_series:\n",
    "            filtered_tokens =[token.text for token in i if not token[0].is_stop or token[2].is_stop]\n",
    "            Removed_Stopwords.append(filtered_tokens)\n",
    "        return Removed_Stopwords\n",
    "\n",
    "def get_starting_words(dataframe,selected_poet,ngram):\n",
    "    starting_words=[]\n",
    "    temp=dataframe[dataframe['author_name']==selected_poet]\n",
    "    if ngram=='Unigrams':\n",
    "        starting_words=[i[0] for i in temp['Updated_Unigrams']]\n",
    "        return starting_words\n",
    "    elif ngram=='Bigrams':\n",
    "        starting_words=[i[0].split()[0] for i in temp['Updated_Bigrams']]\n",
    "        return starting_words\n",
    "    elif ngram=='Backward-Bigrams':\n",
    "        starting_words=[i[0].split()[1] for i in temp['Updated_Bigrams']]\n",
    "        return starting_words\n",
    "    elif ngram=='Trigrams':\n",
    "        starting_words=[i[0].split()[0] for i in temp['Updated_Trigrams']]\n",
    "        return starting_words\n",
    "\n",
    "def get_center_words(dataframe,selected_poet):\n",
    "    starting_words=[]\n",
    "    temp=dataframe[dataframe['author_name']==selected_poet]\n",
    "    for i in temp['Updated_Unigrams']:\n",
    "        if len(i)%2!=0:\n",
    "            starting_words.append(i[len(i)-1-int(len(i)/2)])\n",
    "        else:\n",
    "            starting_words.append(i[int(len(i)/2)])\n",
    "            starting_words.append(i[int(len(i)/2)-1])\n",
    "    return starting_words\n",
    "\n",
    "def Generate_CFD_Unigram(dataframe,selected_poet):\n",
    "    FD_dict={}\n",
    "    CFD_dict={}\n",
    "    UG=dataframe[dataframe['author_name']==selected_poet]['Updated_Unigrams']\n",
    "    for i in UG:\n",
    "        for j in i:\n",
    "            if j not in FD_dict.keys():\n",
    "                FD_dict[j]=1\n",
    "            elif j in FD_dict.keys():\n",
    "                FD_dict[j]=FD_dict[j]+1\n",
    "    max_value=sum(FD_dict.values())\n",
    "    for i in FD_dict.keys():\n",
    "        CFD_dict[i]=np.round(FD_dict[i]/max_value,9)\n",
    "    return CFD_dict\n",
    "\n",
    "def Generate_CFD_Bigram(dataframe,selected_poet):\n",
    "    FD_dict={}\n",
    "    CFD_dict={}\n",
    "    UG=dataframe[dataframe['author_name']==selected_poet]['Updated_Bigrams']\n",
    "    for i in UG:\n",
    "        for j in i:\n",
    "            if j not in FD_dict.keys():\n",
    "                FD_dict[j]=1\n",
    "            elif j in FD_dict.keys():\n",
    "                FD_dict[j]=FD_dict[j]+1\n",
    "    max_value=sum(FD_dict.values())\n",
    "    for i in FD_dict.keys():\n",
    "        CFD_dict[i]=np.round(FD_dict[i]/max_value,9)\n",
    "    return CFD_dict\n",
    "\n",
    "def Generate_CFD_Trigram(dataframe,selected_poet):\n",
    "    FD_dict={}\n",
    "    CFD_dict={}\n",
    "    UG=dataframe[dataframe['author_name']==selected_poet]['Updated_Trigrams']\n",
    "    for i in UG:\n",
    "        for j in i:\n",
    "            if j not in FD_dict.keys():\n",
    "                FD_dict[j]=1\n",
    "            elif j in FD_dict.keys():\n",
    "                FD_dict[j]=FD_dict[j]+1\n",
    "    max_value=sum(FD_dict.values())\n",
    "    for i in FD_dict.keys():\n",
    "        CFD_dict[i]=np.round(FD_dict[i]/max_value,9)\n",
    "    return CFD_dict\n"
   ]
  },
  {
   "cell_type": "markdown",
   "id": "51c97e71",
   "metadata": {},
   "source": [
    "# DATA PREPARATION #"
   ]
  },
  {
   "cell_type": "markdown",
   "id": "213ed8a7",
   "metadata": {},
   "source": [
    "### TOKENIZING LINES OF THE EXTRACTED POEMS"
   ]
  },
  {
   "cell_type": "code",
   "execution_count": 7,
   "id": "ca08a51f",
   "metadata": {},
   "outputs": [],
   "source": [
    "Poem_Lines_Tokenized=tokenize_poem_lines(data['poem_line'])\n",
    "data['tokenized_Lines']=Poem_Lines_Tokenized"
   ]
  },
  {
   "cell_type": "code",
   "execution_count": 8,
   "id": "7acf29f6",
   "metadata": {},
   "outputs": [
    {
     "data": {
      "text/html": [
       "<div>\n",
       "<style scoped>\n",
       "    .dataframe tbody tr th:only-of-type {\n",
       "        vertical-align: middle;\n",
       "    }\n",
       "\n",
       "    .dataframe tbody tr th {\n",
       "        vertical-align: top;\n",
       "    }\n",
       "\n",
       "    .dataframe thead th {\n",
       "        text-align: right;\n",
       "    }\n",
       "</style>\n",
       "<table border=\"1\" class=\"dataframe\">\n",
       "  <thead>\n",
       "    <tr style=\"text-align: right;\">\n",
       "      <th></th>\n",
       "      <th>poem_line</th>\n",
       "      <th>nazm_name</th>\n",
       "      <th>author_name</th>\n",
       "      <th>tokenized_Lines</th>\n",
       "    </tr>\n",
       "  </thead>\n",
       "  <tbody>\n",
       "    <tr>\n",
       "      <th>0</th>\n",
       "      <td>رگوں میں دوڑتا پھرتا لہو پھر تھم گیا ہے</td>\n",
       "      <td>برأت</td>\n",
       "      <td>عابد ادیب</td>\n",
       "      <td>[رگوں, میں, دوڑتا, پھرتا, لہو, پھر, تھم, گیا, ہے]</td>\n",
       "    </tr>\n",
       "    <tr>\n",
       "      <th>1</th>\n",
       "      <td>ہوائیں تیز ہیں سانسوں کی ہلچل رک گئی ہے</td>\n",
       "      <td>برأت</td>\n",
       "      <td>عابد ادیب</td>\n",
       "      <td>[ہوائیں, تیز, ہیں, سانسوں, کی, ہلچل, رک, گئی, ہے]</td>\n",
       "    </tr>\n",
       "    <tr>\n",
       "      <th>2</th>\n",
       "      <td>ریڑھ کی ہڈی میں چیونٹی رینگتی ہے</td>\n",
       "      <td>برأت</td>\n",
       "      <td>عابد ادیب</td>\n",
       "      <td>[ریڑھ, کی, ہڈی, میں, چیونٹی, رینگتی, ہے]</td>\n",
       "    </tr>\n",
       "    <tr>\n",
       "      <th>3</th>\n",
       "      <td>جسم میں پورے حرارت بڑھ گئی ہے</td>\n",
       "      <td>برأت</td>\n",
       "      <td>عابد ادیب</td>\n",
       "      <td>[جسم, میں, پورے, حرارت, بڑھ, گئی, ہے]</td>\n",
       "    </tr>\n",
       "    <tr>\n",
       "      <th>4</th>\n",
       "      <td>ذائقہ کڑوا کسیلا ہو گیا ہے</td>\n",
       "      <td>برأت</td>\n",
       "      <td>عابد ادیب</td>\n",
       "      <td>[ذائقہ, کڑوا, کسیلا, ہو, گیا, ہے]</td>\n",
       "    </tr>\n",
       "  </tbody>\n",
       "</table>\n",
       "</div>"
      ],
      "text/plain": [
       "                                 poem_line nazm_name author_name  \\\n",
       "0  رگوں میں دوڑتا پھرتا لہو پھر تھم گیا ہے     برأت   عابد ادیب   \n",
       "1  ہوائیں تیز ہیں سانسوں کی ہلچل رک گئی ہے     برأت   عابد ادیب   \n",
       "2         ریڑھ کی ہڈی میں چیونٹی رینگتی ہے     برأت   عابد ادیب   \n",
       "3            جسم میں پورے حرارت بڑھ گئی ہے     برأت   عابد ادیب   \n",
       "4               ذائقہ کڑوا کسیلا ہو گیا ہے     برأت   عابد ادیب   \n",
       "\n",
       "                                     tokenized_Lines  \n",
       "0  [رگوں, میں, دوڑتا, پھرتا, لہو, پھر, تھم, گیا, ہے]  \n",
       "1  [ہوائیں, تیز, ہیں, سانسوں, کی, ہلچل, رک, گئی, ہے]  \n",
       "2           [ریڑھ, کی, ہڈی, میں, چیونٹی, رینگتی, ہے]  \n",
       "3              [جسم, میں, پورے, حرارت, بڑھ, گئی, ہے]  \n",
       "4                  [ذائقہ, کڑوا, کسیلا, ہو, گیا, ہے]  "
      ]
     },
     "execution_count": 8,
     "metadata": {},
     "output_type": "execute_result"
    }
   ],
   "source": [
    "data.head()"
   ]
  },
  {
   "cell_type": "markdown",
   "id": "551d798e",
   "metadata": {},
   "source": [
    "### GENERATING UNIGRAMS OF THE POEM LINES\n",
    "#### Unigrams are basically the splitted poem lines so no need to do anything for unigrams"
   ]
  },
  {
   "cell_type": "code",
   "execution_count": 9,
   "id": "52786185",
   "metadata": {},
   "outputs": [],
   "source": [
    "data['Poem_Line_Unigrams']=data['tokenized_Lines']"
   ]
  },
  {
   "cell_type": "markdown",
   "id": "79a0c1cd",
   "metadata": {},
   "source": [
    "### GENERATING BIGRAMS OF THE POEM LINES"
   ]
  },
  {
   "cell_type": "code",
   "execution_count": 10,
   "id": "ac2bc73f",
   "metadata": {},
   "outputs": [],
   "source": [
    "Poem_Line_Bigrams=Generate_Bigrams(data['tokenized_Lines'])\n",
    "data['Poem_Line_Bigrams']=Poem_Line_Bigrams"
   ]
  },
  {
   "cell_type": "code",
   "execution_count": 11,
   "id": "462b7706",
   "metadata": {},
   "outputs": [
    {
     "data": {
      "text/html": [
       "<div>\n",
       "<style scoped>\n",
       "    .dataframe tbody tr th:only-of-type {\n",
       "        vertical-align: middle;\n",
       "    }\n",
       "\n",
       "    .dataframe tbody tr th {\n",
       "        vertical-align: top;\n",
       "    }\n",
       "\n",
       "    .dataframe thead th {\n",
       "        text-align: right;\n",
       "    }\n",
       "</style>\n",
       "<table border=\"1\" class=\"dataframe\">\n",
       "  <thead>\n",
       "    <tr style=\"text-align: right;\">\n",
       "      <th></th>\n",
       "      <th>poem_line</th>\n",
       "      <th>nazm_name</th>\n",
       "      <th>author_name</th>\n",
       "      <th>tokenized_Lines</th>\n",
       "      <th>Poem_Line_Unigrams</th>\n",
       "      <th>Poem_Line_Bigrams</th>\n",
       "    </tr>\n",
       "  </thead>\n",
       "  <tbody>\n",
       "    <tr>\n",
       "      <th>0</th>\n",
       "      <td>رگوں میں دوڑتا پھرتا لہو پھر تھم گیا ہے</td>\n",
       "      <td>برأت</td>\n",
       "      <td>عابد ادیب</td>\n",
       "      <td>[رگوں, میں, دوڑتا, پھرتا, لہو, پھر, تھم, گیا, ہے]</td>\n",
       "      <td>[رگوں, میں, دوڑتا, پھرتا, لہو, پھر, تھم, گیا, ہے]</td>\n",
       "      <td>[(رگوں, میں), (میں, دوڑتا), (دوڑتا, پھرتا), (پ...</td>\n",
       "    </tr>\n",
       "    <tr>\n",
       "      <th>1</th>\n",
       "      <td>ہوائیں تیز ہیں سانسوں کی ہلچل رک گئی ہے</td>\n",
       "      <td>برأت</td>\n",
       "      <td>عابد ادیب</td>\n",
       "      <td>[ہوائیں, تیز, ہیں, سانسوں, کی, ہلچل, رک, گئی, ہے]</td>\n",
       "      <td>[ہوائیں, تیز, ہیں, سانسوں, کی, ہلچل, رک, گئی, ہے]</td>\n",
       "      <td>[(ہوائیں, تیز), (تیز, ہیں), (ہیں, سانسوں), (سا...</td>\n",
       "    </tr>\n",
       "    <tr>\n",
       "      <th>2</th>\n",
       "      <td>ریڑھ کی ہڈی میں چیونٹی رینگتی ہے</td>\n",
       "      <td>برأت</td>\n",
       "      <td>عابد ادیب</td>\n",
       "      <td>[ریڑھ, کی, ہڈی, میں, چیونٹی, رینگتی, ہے]</td>\n",
       "      <td>[ریڑھ, کی, ہڈی, میں, چیونٹی, رینگتی, ہے]</td>\n",
       "      <td>[(ریڑھ, کی), (کی, ہڈی), (ہڈی, میں), (میں, چیون...</td>\n",
       "    </tr>\n",
       "    <tr>\n",
       "      <th>3</th>\n",
       "      <td>جسم میں پورے حرارت بڑھ گئی ہے</td>\n",
       "      <td>برأت</td>\n",
       "      <td>عابد ادیب</td>\n",
       "      <td>[جسم, میں, پورے, حرارت, بڑھ, گئی, ہے]</td>\n",
       "      <td>[جسم, میں, پورے, حرارت, بڑھ, گئی, ہے]</td>\n",
       "      <td>[(جسم, میں), (میں, پورے), (پورے, حرارت), (حرار...</td>\n",
       "    </tr>\n",
       "    <tr>\n",
       "      <th>4</th>\n",
       "      <td>ذائقہ کڑوا کسیلا ہو گیا ہے</td>\n",
       "      <td>برأت</td>\n",
       "      <td>عابد ادیب</td>\n",
       "      <td>[ذائقہ, کڑوا, کسیلا, ہو, گیا, ہے]</td>\n",
       "      <td>[ذائقہ, کڑوا, کسیلا, ہو, گیا, ہے]</td>\n",
       "      <td>[(ذائقہ, کڑوا), (کڑوا, کسیلا), (کسیلا, ہو), (ہ...</td>\n",
       "    </tr>\n",
       "  </tbody>\n",
       "</table>\n",
       "</div>"
      ],
      "text/plain": [
       "                                 poem_line nazm_name author_name  \\\n",
       "0  رگوں میں دوڑتا پھرتا لہو پھر تھم گیا ہے     برأت   عابد ادیب   \n",
       "1  ہوائیں تیز ہیں سانسوں کی ہلچل رک گئی ہے     برأت   عابد ادیب   \n",
       "2         ریڑھ کی ہڈی میں چیونٹی رینگتی ہے     برأت   عابد ادیب   \n",
       "3            جسم میں پورے حرارت بڑھ گئی ہے     برأت   عابد ادیب   \n",
       "4               ذائقہ کڑوا کسیلا ہو گیا ہے     برأت   عابد ادیب   \n",
       "\n",
       "                                     tokenized_Lines  \\\n",
       "0  [رگوں, میں, دوڑتا, پھرتا, لہو, پھر, تھم, گیا, ہے]   \n",
       "1  [ہوائیں, تیز, ہیں, سانسوں, کی, ہلچل, رک, گئی, ہے]   \n",
       "2           [ریڑھ, کی, ہڈی, میں, چیونٹی, رینگتی, ہے]   \n",
       "3              [جسم, میں, پورے, حرارت, بڑھ, گئی, ہے]   \n",
       "4                  [ذائقہ, کڑوا, کسیلا, ہو, گیا, ہے]   \n",
       "\n",
       "                                  Poem_Line_Unigrams  \\\n",
       "0  [رگوں, میں, دوڑتا, پھرتا, لہو, پھر, تھم, گیا, ہے]   \n",
       "1  [ہوائیں, تیز, ہیں, سانسوں, کی, ہلچل, رک, گئی, ہے]   \n",
       "2           [ریڑھ, کی, ہڈی, میں, چیونٹی, رینگتی, ہے]   \n",
       "3              [جسم, میں, پورے, حرارت, بڑھ, گئی, ہے]   \n",
       "4                  [ذائقہ, کڑوا, کسیلا, ہو, گیا, ہے]   \n",
       "\n",
       "                                   Poem_Line_Bigrams  \n",
       "0  [(رگوں, میں), (میں, دوڑتا), (دوڑتا, پھرتا), (پ...  \n",
       "1  [(ہوائیں, تیز), (تیز, ہیں), (ہیں, سانسوں), (سا...  \n",
       "2  [(ریڑھ, کی), (کی, ہڈی), (ہڈی, میں), (میں, چیون...  \n",
       "3  [(جسم, میں), (میں, پورے), (پورے, حرارت), (حرار...  \n",
       "4  [(ذائقہ, کڑوا), (کڑوا, کسیلا), (کسیلا, ہو), (ہ...  "
      ]
     },
     "execution_count": 11,
     "metadata": {},
     "output_type": "execute_result"
    }
   ],
   "source": [
    "data.head()"
   ]
  },
  {
   "cell_type": "markdown",
   "id": "dbba6101",
   "metadata": {},
   "source": [
    "### GENERATING TRIGRAMS OF THE POEM LINES"
   ]
  },
  {
   "cell_type": "code",
   "execution_count": 12,
   "id": "cdb72c9d",
   "metadata": {},
   "outputs": [],
   "source": [
    "Poem_Line_Trigrams=Generate_Trigrams(data['tokenized_Lines'])\n",
    "data['Poem_Line_Trigrams']=Poem_Line_Trigrams"
   ]
  },
  {
   "cell_type": "code",
   "execution_count": 13,
   "id": "cb6ac641",
   "metadata": {},
   "outputs": [
    {
     "data": {
      "text/html": [
       "<div>\n",
       "<style scoped>\n",
       "    .dataframe tbody tr th:only-of-type {\n",
       "        vertical-align: middle;\n",
       "    }\n",
       "\n",
       "    .dataframe tbody tr th {\n",
       "        vertical-align: top;\n",
       "    }\n",
       "\n",
       "    .dataframe thead th {\n",
       "        text-align: right;\n",
       "    }\n",
       "</style>\n",
       "<table border=\"1\" class=\"dataframe\">\n",
       "  <thead>\n",
       "    <tr style=\"text-align: right;\">\n",
       "      <th></th>\n",
       "      <th>poem_line</th>\n",
       "      <th>nazm_name</th>\n",
       "      <th>author_name</th>\n",
       "      <th>tokenized_Lines</th>\n",
       "      <th>Poem_Line_Unigrams</th>\n",
       "      <th>Poem_Line_Bigrams</th>\n",
       "      <th>Poem_Line_Trigrams</th>\n",
       "    </tr>\n",
       "  </thead>\n",
       "  <tbody>\n",
       "    <tr>\n",
       "      <th>0</th>\n",
       "      <td>رگوں میں دوڑتا پھرتا لہو پھر تھم گیا ہے</td>\n",
       "      <td>برأت</td>\n",
       "      <td>عابد ادیب</td>\n",
       "      <td>[رگوں, میں, دوڑتا, پھرتا, لہو, پھر, تھم, گیا, ہے]</td>\n",
       "      <td>[رگوں, میں, دوڑتا, پھرتا, لہو, پھر, تھم, گیا, ہے]</td>\n",
       "      <td>[(رگوں, میں), (میں, دوڑتا), (دوڑتا, پھرتا), (پ...</td>\n",
       "      <td>[(رگوں, میں, دوڑتا), (میں, دوڑتا, پھرتا), (دوڑ...</td>\n",
       "    </tr>\n",
       "    <tr>\n",
       "      <th>1</th>\n",
       "      <td>ہوائیں تیز ہیں سانسوں کی ہلچل رک گئی ہے</td>\n",
       "      <td>برأت</td>\n",
       "      <td>عابد ادیب</td>\n",
       "      <td>[ہوائیں, تیز, ہیں, سانسوں, کی, ہلچل, رک, گئی, ہے]</td>\n",
       "      <td>[ہوائیں, تیز, ہیں, سانسوں, کی, ہلچل, رک, گئی, ہے]</td>\n",
       "      <td>[(ہوائیں, تیز), (تیز, ہیں), (ہیں, سانسوں), (سا...</td>\n",
       "      <td>[(ہوائیں, تیز, ہیں), (تیز, ہیں, سانسوں), (ہیں,...</td>\n",
       "    </tr>\n",
       "    <tr>\n",
       "      <th>2</th>\n",
       "      <td>ریڑھ کی ہڈی میں چیونٹی رینگتی ہے</td>\n",
       "      <td>برأت</td>\n",
       "      <td>عابد ادیب</td>\n",
       "      <td>[ریڑھ, کی, ہڈی, میں, چیونٹی, رینگتی, ہے]</td>\n",
       "      <td>[ریڑھ, کی, ہڈی, میں, چیونٹی, رینگتی, ہے]</td>\n",
       "      <td>[(ریڑھ, کی), (کی, ہڈی), (ہڈی, میں), (میں, چیون...</td>\n",
       "      <td>[(ریڑھ, کی, ہڈی), (کی, ہڈی, میں), (ہڈی, میں, چ...</td>\n",
       "    </tr>\n",
       "    <tr>\n",
       "      <th>3</th>\n",
       "      <td>جسم میں پورے حرارت بڑھ گئی ہے</td>\n",
       "      <td>برأت</td>\n",
       "      <td>عابد ادیب</td>\n",
       "      <td>[جسم, میں, پورے, حرارت, بڑھ, گئی, ہے]</td>\n",
       "      <td>[جسم, میں, پورے, حرارت, بڑھ, گئی, ہے]</td>\n",
       "      <td>[(جسم, میں), (میں, پورے), (پورے, حرارت), (حرار...</td>\n",
       "      <td>[(جسم, میں, پورے), (میں, پورے, حرارت), (پورے, ...</td>\n",
       "    </tr>\n",
       "    <tr>\n",
       "      <th>4</th>\n",
       "      <td>ذائقہ کڑوا کسیلا ہو گیا ہے</td>\n",
       "      <td>برأت</td>\n",
       "      <td>عابد ادیب</td>\n",
       "      <td>[ذائقہ, کڑوا, کسیلا, ہو, گیا, ہے]</td>\n",
       "      <td>[ذائقہ, کڑوا, کسیلا, ہو, گیا, ہے]</td>\n",
       "      <td>[(ذائقہ, کڑوا), (کڑوا, کسیلا), (کسیلا, ہو), (ہ...</td>\n",
       "      <td>[(ذائقہ, کڑوا, کسیلا), (کڑوا, کسیلا, ہو), (کسی...</td>\n",
       "    </tr>\n",
       "  </tbody>\n",
       "</table>\n",
       "</div>"
      ],
      "text/plain": [
       "                                 poem_line nazm_name author_name  \\\n",
       "0  رگوں میں دوڑتا پھرتا لہو پھر تھم گیا ہے     برأت   عابد ادیب   \n",
       "1  ہوائیں تیز ہیں سانسوں کی ہلچل رک گئی ہے     برأت   عابد ادیب   \n",
       "2         ریڑھ کی ہڈی میں چیونٹی رینگتی ہے     برأت   عابد ادیب   \n",
       "3            جسم میں پورے حرارت بڑھ گئی ہے     برأت   عابد ادیب   \n",
       "4               ذائقہ کڑوا کسیلا ہو گیا ہے     برأت   عابد ادیب   \n",
       "\n",
       "                                     tokenized_Lines  \\\n",
       "0  [رگوں, میں, دوڑتا, پھرتا, لہو, پھر, تھم, گیا, ہے]   \n",
       "1  [ہوائیں, تیز, ہیں, سانسوں, کی, ہلچل, رک, گئی, ہے]   \n",
       "2           [ریڑھ, کی, ہڈی, میں, چیونٹی, رینگتی, ہے]   \n",
       "3              [جسم, میں, پورے, حرارت, بڑھ, گئی, ہے]   \n",
       "4                  [ذائقہ, کڑوا, کسیلا, ہو, گیا, ہے]   \n",
       "\n",
       "                                  Poem_Line_Unigrams  \\\n",
       "0  [رگوں, میں, دوڑتا, پھرتا, لہو, پھر, تھم, گیا, ہے]   \n",
       "1  [ہوائیں, تیز, ہیں, سانسوں, کی, ہلچل, رک, گئی, ہے]   \n",
       "2           [ریڑھ, کی, ہڈی, میں, چیونٹی, رینگتی, ہے]   \n",
       "3              [جسم, میں, پورے, حرارت, بڑھ, گئی, ہے]   \n",
       "4                  [ذائقہ, کڑوا, کسیلا, ہو, گیا, ہے]   \n",
       "\n",
       "                                   Poem_Line_Bigrams  \\\n",
       "0  [(رگوں, میں), (میں, دوڑتا), (دوڑتا, پھرتا), (پ...   \n",
       "1  [(ہوائیں, تیز), (تیز, ہیں), (ہیں, سانسوں), (سا...   \n",
       "2  [(ریڑھ, کی), (کی, ہڈی), (ہڈی, میں), (میں, چیون...   \n",
       "3  [(جسم, میں), (میں, پورے), (پورے, حرارت), (حرار...   \n",
       "4  [(ذائقہ, کڑوا), (کڑوا, کسیلا), (کسیلا, ہو), (ہ...   \n",
       "\n",
       "                                  Poem_Line_Trigrams  \n",
       "0  [(رگوں, میں, دوڑتا), (میں, دوڑتا, پھرتا), (دوڑ...  \n",
       "1  [(ہوائیں, تیز, ہیں), (تیز, ہیں, سانسوں), (ہیں,...  \n",
       "2  [(ریڑھ, کی, ہڈی), (کی, ہڈی, میں), (ہڈی, میں, چ...  \n",
       "3  [(جسم, میں, پورے), (میں, پورے, حرارت), (پورے, ...  \n",
       "4  [(ذائقہ, کڑوا, کسیلا), (کڑوا, کسیلا, ہو), (کسی...  "
      ]
     },
     "execution_count": 13,
     "metadata": {},
     "output_type": "execute_result"
    }
   ],
   "source": [
    "data.head()"
   ]
  },
  {
   "cell_type": "markdown",
   "id": "5bf01dbd",
   "metadata": {},
   "source": [
    "## Removing Stopwords "
   ]
  },
  {
   "cell_type": "code",
   "execution_count": 14,
   "id": "c60eb2ca",
   "metadata": {},
   "outputs": [],
   "source": [
    "Unigrams_Removed_Stopwords=Remove_StopWords(data['Poem_Line_Unigrams'])\n",
    "Bigrams_Removed_Stopwords=Remove_StopWords(data['Poem_Line_Bigrams'],True,False)\n",
    "Trigrams_Removed_Stopwords=Remove_StopWords(data['Poem_Line_Trigrams'],False,True)\n",
    "\n",
    "data['Updated_Unigrams']=Unigrams_Removed_Stopwords\n",
    "data['Updated_Bigrams']=Bigrams_Removed_Stopwords\n",
    "data['Updated_Trigrams']=Trigrams_Removed_Stopwords"
   ]
  },
  {
   "cell_type": "code",
   "execution_count": 15,
   "id": "c391d3e7",
   "metadata": {},
   "outputs": [
    {
     "data": {
      "text/html": [
       "<div>\n",
       "<style scoped>\n",
       "    .dataframe tbody tr th:only-of-type {\n",
       "        vertical-align: middle;\n",
       "    }\n",
       "\n",
       "    .dataframe tbody tr th {\n",
       "        vertical-align: top;\n",
       "    }\n",
       "\n",
       "    .dataframe thead th {\n",
       "        text-align: right;\n",
       "    }\n",
       "</style>\n",
       "<table border=\"1\" class=\"dataframe\">\n",
       "  <thead>\n",
       "    <tr style=\"text-align: right;\">\n",
       "      <th></th>\n",
       "      <th>poem_line</th>\n",
       "      <th>nazm_name</th>\n",
       "      <th>author_name</th>\n",
       "      <th>tokenized_Lines</th>\n",
       "      <th>Poem_Line_Unigrams</th>\n",
       "      <th>Poem_Line_Bigrams</th>\n",
       "      <th>Poem_Line_Trigrams</th>\n",
       "      <th>Updated_Unigrams</th>\n",
       "      <th>Updated_Bigrams</th>\n",
       "      <th>Updated_Trigrams</th>\n",
       "    </tr>\n",
       "  </thead>\n",
       "  <tbody>\n",
       "    <tr>\n",
       "      <th>0</th>\n",
       "      <td>رگوں میں دوڑتا پھرتا لہو پھر تھم گیا ہے</td>\n",
       "      <td>برأت</td>\n",
       "      <td>عابد ادیب</td>\n",
       "      <td>[رگوں, میں, دوڑتا, پھرتا, لہو, پھر, تھم, گیا, ہے]</td>\n",
       "      <td>[رگوں, میں, دوڑتا, پھرتا, لہو, پھر, تھم, گیا, ہے]</td>\n",
       "      <td>[(رگوں, میں), (میں, دوڑتا), (دوڑتا, پھرتا), (پ...</td>\n",
       "      <td>[(رگوں, میں, دوڑتا), (میں, دوڑتا, پھرتا), (دوڑ...</td>\n",
       "      <td>[رگوں, میں, دوڑتا, پھرتا, لہو, تھم, گیا]</td>\n",
       "      <td>[رگوں میں, میں دوڑتا, دوڑتا پھرتا, پھرتا لہو, ...</td>\n",
       "      <td>[رگوں میں دوڑتا, میں دوڑتا پھرتا, دوڑتا پھرتا ...</td>\n",
       "    </tr>\n",
       "    <tr>\n",
       "      <th>1</th>\n",
       "      <td>ہوائیں تیز ہیں سانسوں کی ہلچل رک گئی ہے</td>\n",
       "      <td>برأت</td>\n",
       "      <td>عابد ادیب</td>\n",
       "      <td>[ہوائیں, تیز, ہیں, سانسوں, کی, ہلچل, رک, گئی, ہے]</td>\n",
       "      <td>[ہوائیں, تیز, ہیں, سانسوں, کی, ہلچل, رک, گئی, ہے]</td>\n",
       "      <td>[(ہوائیں, تیز), (تیز, ہیں), (ہیں, سانسوں), (سا...</td>\n",
       "      <td>[(ہوائیں, تیز, ہیں), (تیز, ہیں, سانسوں), (ہیں,...</td>\n",
       "      <td>[ہوائیں, تیز, سانسوں, ہلچل, رک]</td>\n",
       "      <td>[ہوائیں تیز, تیز ہیں, سانسوں کی, ہلچل رک, رک گ...</td>\n",
       "      <td>[ہوائیں تیز ہیں, تیز ہیں سانسوں, ہیں سانسوں کی...</td>\n",
       "    </tr>\n",
       "    <tr>\n",
       "      <th>2</th>\n",
       "      <td>ریڑھ کی ہڈی میں چیونٹی رینگتی ہے</td>\n",
       "      <td>برأت</td>\n",
       "      <td>عابد ادیب</td>\n",
       "      <td>[ریڑھ, کی, ہڈی, میں, چیونٹی, رینگتی, ہے]</td>\n",
       "      <td>[ریڑھ, کی, ہڈی, میں, چیونٹی, رینگتی, ہے]</td>\n",
       "      <td>[(ریڑھ, کی), (کی, ہڈی), (ہڈی, میں), (میں, چیون...</td>\n",
       "      <td>[(ریڑھ, کی, ہڈی), (کی, ہڈی, میں), (ہڈی, میں, چ...</td>\n",
       "      <td>[ریڑھ, ہڈی, میں, چیونٹی, رینگتی]</td>\n",
       "      <td>[ریڑھ کی, ہڈی میں, میں چیونٹی, چیونٹی رینگتی, ...</td>\n",
       "      <td>[ریڑھ کی ہڈی, ہڈی میں چیونٹی, میں چیونٹی رینگت...</td>\n",
       "    </tr>\n",
       "    <tr>\n",
       "      <th>3</th>\n",
       "      <td>جسم میں پورے حرارت بڑھ گئی ہے</td>\n",
       "      <td>برأت</td>\n",
       "      <td>عابد ادیب</td>\n",
       "      <td>[جسم, میں, پورے, حرارت, بڑھ, گئی, ہے]</td>\n",
       "      <td>[جسم, میں, پورے, حرارت, بڑھ, گئی, ہے]</td>\n",
       "      <td>[(جسم, میں), (میں, پورے), (پورے, حرارت), (حرار...</td>\n",
       "      <td>[(جسم, میں, پورے), (میں, پورے, حرارت), (پورے, ...</td>\n",
       "      <td>[جسم, میں, پورے, حرارت, بڑھ]</td>\n",
       "      <td>[جسم میں, میں پورے, پورے حرارت, حرارت بڑھ, بڑھ...</td>\n",
       "      <td>[جسم میں پورے, میں پورے حرارت, پورے حرارت بڑھ,...</td>\n",
       "    </tr>\n",
       "    <tr>\n",
       "      <th>4</th>\n",
       "      <td>ذائقہ کڑوا کسیلا ہو گیا ہے</td>\n",
       "      <td>برأت</td>\n",
       "      <td>عابد ادیب</td>\n",
       "      <td>[ذائقہ, کڑوا, کسیلا, ہو, گیا, ہے]</td>\n",
       "      <td>[ذائقہ, کڑوا, کسیلا, ہو, گیا, ہے]</td>\n",
       "      <td>[(ذائقہ, کڑوا), (کڑوا, کسیلا), (کسیلا, ہو), (ہ...</td>\n",
       "      <td>[(ذائقہ, کڑوا, کسیلا), (کڑوا, کسیلا, ہو), (کسی...</td>\n",
       "      <td>[ذائقہ, کڑوا, کسیلا, گیا]</td>\n",
       "      <td>[ذائقہ کڑوا, کڑوا کسیلا, کسیلا ہو, گیا ہے]</td>\n",
       "      <td>[ذائقہ کڑوا کسیلا, کڑوا کسیلا ہو, کسیلا ہو گیا...</td>\n",
       "    </tr>\n",
       "  </tbody>\n",
       "</table>\n",
       "</div>"
      ],
      "text/plain": [
       "                                 poem_line nazm_name author_name  \\\n",
       "0  رگوں میں دوڑتا پھرتا لہو پھر تھم گیا ہے     برأت   عابد ادیب   \n",
       "1  ہوائیں تیز ہیں سانسوں کی ہلچل رک گئی ہے     برأت   عابد ادیب   \n",
       "2         ریڑھ کی ہڈی میں چیونٹی رینگتی ہے     برأت   عابد ادیب   \n",
       "3            جسم میں پورے حرارت بڑھ گئی ہے     برأت   عابد ادیب   \n",
       "4               ذائقہ کڑوا کسیلا ہو گیا ہے     برأت   عابد ادیب   \n",
       "\n",
       "                                     tokenized_Lines  \\\n",
       "0  [رگوں, میں, دوڑتا, پھرتا, لہو, پھر, تھم, گیا, ہے]   \n",
       "1  [ہوائیں, تیز, ہیں, سانسوں, کی, ہلچل, رک, گئی, ہے]   \n",
       "2           [ریڑھ, کی, ہڈی, میں, چیونٹی, رینگتی, ہے]   \n",
       "3              [جسم, میں, پورے, حرارت, بڑھ, گئی, ہے]   \n",
       "4                  [ذائقہ, کڑوا, کسیلا, ہو, گیا, ہے]   \n",
       "\n",
       "                                  Poem_Line_Unigrams  \\\n",
       "0  [رگوں, میں, دوڑتا, پھرتا, لہو, پھر, تھم, گیا, ہے]   \n",
       "1  [ہوائیں, تیز, ہیں, سانسوں, کی, ہلچل, رک, گئی, ہے]   \n",
       "2           [ریڑھ, کی, ہڈی, میں, چیونٹی, رینگتی, ہے]   \n",
       "3              [جسم, میں, پورے, حرارت, بڑھ, گئی, ہے]   \n",
       "4                  [ذائقہ, کڑوا, کسیلا, ہو, گیا, ہے]   \n",
       "\n",
       "                                   Poem_Line_Bigrams  \\\n",
       "0  [(رگوں, میں), (میں, دوڑتا), (دوڑتا, پھرتا), (پ...   \n",
       "1  [(ہوائیں, تیز), (تیز, ہیں), (ہیں, سانسوں), (سا...   \n",
       "2  [(ریڑھ, کی), (کی, ہڈی), (ہڈی, میں), (میں, چیون...   \n",
       "3  [(جسم, میں), (میں, پورے), (پورے, حرارت), (حرار...   \n",
       "4  [(ذائقہ, کڑوا), (کڑوا, کسیلا), (کسیلا, ہو), (ہ...   \n",
       "\n",
       "                                  Poem_Line_Trigrams  \\\n",
       "0  [(رگوں, میں, دوڑتا), (میں, دوڑتا, پھرتا), (دوڑ...   \n",
       "1  [(ہوائیں, تیز, ہیں), (تیز, ہیں, سانسوں), (ہیں,...   \n",
       "2  [(ریڑھ, کی, ہڈی), (کی, ہڈی, میں), (ہڈی, میں, چ...   \n",
       "3  [(جسم, میں, پورے), (میں, پورے, حرارت), (پورے, ...   \n",
       "4  [(ذائقہ, کڑوا, کسیلا), (کڑوا, کسیلا, ہو), (کسی...   \n",
       "\n",
       "                           Updated_Unigrams  \\\n",
       "0  [رگوں, میں, دوڑتا, پھرتا, لہو, تھم, گیا]   \n",
       "1           [ہوائیں, تیز, سانسوں, ہلچل, رک]   \n",
       "2          [ریڑھ, ہڈی, میں, چیونٹی, رینگتی]   \n",
       "3              [جسم, میں, پورے, حرارت, بڑھ]   \n",
       "4                 [ذائقہ, کڑوا, کسیلا, گیا]   \n",
       "\n",
       "                                     Updated_Bigrams  \\\n",
       "0  [رگوں میں, میں دوڑتا, دوڑتا پھرتا, پھرتا لہو, ...   \n",
       "1  [ہوائیں تیز, تیز ہیں, سانسوں کی, ہلچل رک, رک گ...   \n",
       "2  [ریڑھ کی, ہڈی میں, میں چیونٹی, چیونٹی رینگتی, ...   \n",
       "3  [جسم میں, میں پورے, پورے حرارت, حرارت بڑھ, بڑھ...   \n",
       "4         [ذائقہ کڑوا, کڑوا کسیلا, کسیلا ہو, گیا ہے]   \n",
       "\n",
       "                                    Updated_Trigrams  \n",
       "0  [رگوں میں دوڑتا, میں دوڑتا پھرتا, دوڑتا پھرتا ...  \n",
       "1  [ہوائیں تیز ہیں, تیز ہیں سانسوں, ہیں سانسوں کی...  \n",
       "2  [ریڑھ کی ہڈی, ہڈی میں چیونٹی, میں چیونٹی رینگت...  \n",
       "3  [جسم میں پورے, میں پورے حرارت, پورے حرارت بڑھ,...  \n",
       "4  [ذائقہ کڑوا کسیلا, کڑوا کسیلا ہو, کسیلا ہو گیا...  "
      ]
     },
     "execution_count": 15,
     "metadata": {},
     "output_type": "execute_result"
    }
   ],
   "source": [
    "data.head()"
   ]
  },
  {
   "cell_type": "markdown",
   "id": "31112e20",
   "metadata": {},
   "source": [
    "# STANDARD N-GRAM MODELS"
   ]
  },
  {
   "cell_type": "markdown",
   "id": "10772d81",
   "metadata": {},
   "source": [
    "## UNIGRAM MODEL"
   ]
  },
  {
   "cell_type": "code",
   "execution_count": 16,
   "id": "00cdb4c2",
   "metadata": {},
   "outputs": [],
   "source": [
    "def Unigram_Model(dataframe,selected_poet,SL,VMIN,VMAX,VPS):\n",
    "    a=Generate_CFD_Unigram(dataframe,selected_poet)\n",
    "    a=sorted(a.items(), key=lambda x:x[1],reverse=True)\n",
    "    starting_words=get_starting_words(dataframe,selected_poet,'Unigrams')\n",
    "    for i in range(SL):\n",
    "        for j in range(VPS):\n",
    "            random_number=np.random.randint(VMIN,VMAX)\n",
    "            first_word=random.sample(starting_words,1)\n",
    "            verse=[a[v][0] for v in range(1,random_number) ]\n",
    "            print(first_word[0],' '.join(verse))\n",
    "        print('\\n')"
   ]
  },
  {
   "cell_type": "markdown",
   "id": "892d25be",
   "metadata": {},
   "source": [
    "## BIGRAM MODEL"
   ]
  },
  {
   "cell_type": "code",
   "execution_count": 17,
   "id": "ca96753e",
   "metadata": {},
   "outputs": [],
   "source": [
    "def Bigram_Model(dataframe,selected_poet,SL,VMIN,VMAX,VPS):\n",
    "    b=Generate_CFD_Bigram(dataframe,selected_poet)\n",
    "    b=sorted(b.items(), key=lambda x:x[1],reverse=True)\n",
    "    starting_words=get_starting_words(dataframe,selected_poet,'Bigrams')\n",
    "    first_word=random.sample(starting_words,1)[0]\n",
    "    stanzas=[]\n",
    "    for i in range(SL):\n",
    "        for j in range(VPS):\n",
    "            verse=''+first_word\n",
    "            random_number=np.random.randint(VMIN,VMAX)\n",
    "            for i in range(random_number):\n",
    "                next_value=''\n",
    "                for v in b:\n",
    "                    if v[0].split()[0]==first_word:\n",
    "                        next_value=v[0]\n",
    "                if next_value=='':\n",
    "                    next_value=random.sample(b,1)[0][0]\n",
    "                first_word=next_value.split()[1]\n",
    "                verse=verse+' '+first_word\n",
    "            stanzas.append(verse)\n",
    "            verse=''\n",
    "            first_word=random.sample(starting_words,1)[0]\n",
    "        stanzas.append('\\n')\n",
    "    return stanzas"
   ]
  },
  {
   "cell_type": "markdown",
   "id": "8f407930",
   "metadata": {},
   "source": [
    "## TRIGRAM MODEL"
   ]
  },
  {
   "cell_type": "code",
   "execution_count": 18,
   "id": "3697564c",
   "metadata": {},
   "outputs": [],
   "source": [
    "def Trigram_Model(dataframe,selected_poet,SL,VMIN,VMAX,VPS):\n",
    "    b=Generate_CFD_Trigram(dataframe,selected_poet)\n",
    "    b=sorted(b.items(), key=lambda x:x[1],reverse=True)\n",
    "    starting_words=get_starting_words(dataframe,selected_poet,'Trigrams')\n",
    "    first_word=random.sample(starting_words,2)\n",
    "    stanzas=[]\n",
    "    for i in range(SL):\n",
    "        for j in range(VPS):\n",
    "            verse=''+first_word[0]+' '+first_word[1]\n",
    "            random_number=np.random.randint(VMIN,VMAX)\n",
    "            for i in range(random_number):\n",
    "                next_value=''\n",
    "                for v in b:\n",
    "                    if v[0].split()[0]==first_word[0] and v[0].split()[1]==first_word[1]:\n",
    "                        next_value=v[0]\n",
    "                        break\n",
    "                if next_value=='':\n",
    "                    next_value=random.sample(b,1)[0][0]\n",
    "                verse=verse+' '+next_value.split()[2]\n",
    "                first_word=[next_value.split()[1],next_value.split()[2]]\n",
    "                \n",
    "            stanzas.append(verse)\n",
    "            verse=''\n",
    "            first_word=random.sample(starting_words,2)\n",
    "        stanzas.append('\\n')\n",
    "    return stanzas"
   ]
  },
  {
   "cell_type": "code",
   "execution_count": 19,
   "id": "0aac9e82",
   "metadata": {},
   "outputs": [],
   "source": [
    "stanza_length=4\n",
    "verse_min_length=7\n",
    "verse_max_length=11\n",
    "verse_per_stanza=4"
   ]
  },
  {
   "cell_type": "markdown",
   "id": "2ea3a714",
   "metadata": {},
   "source": [
    "## UNIGRAM  RESULT"
   ]
  },
  {
   "cell_type": "code",
   "execution_count": 20,
   "id": "da503f7c",
   "metadata": {},
   "outputs": [
    {
     "name": "stdout",
     "output_type": "stream",
     "text": [
      "گھنے نہ دیا کیا نے میرے سے وطن کو\n",
      "جو نہ دیا کیا نے میرے سے وطن\n",
      "زندگی نہ دیا کیا نے میرے سے وطن کو کس\n",
      "چاند نہ دیا کیا نے میرے سے وطن کو\n",
      "\n",
      "\n",
      "میرے نہ دیا کیا نے میرے سے\n",
      "سبزے نہ دیا کیا نے میرے سے وطن کو کس\n",
      "گھنے نہ دیا کیا نے میرے سے وطن\n",
      "کیا نہ دیا کیا نے میرے سے وطن\n",
      "\n",
      "\n",
      "پتے نہ دیا کیا نے میرے سے وطن کو\n",
      "کس نہ دیا کیا نے میرے سے\n",
      "جوتیں نہ دیا کیا نے میرے سے\n",
      "آپس نہ دیا کیا نے میرے سے وطن\n",
      "\n",
      "\n",
      "جو نہ دیا کیا نے میرے سے وطن\n",
      "پودے نہ دیا کیا نے میرے سے وطن کو کس\n",
      "دھانوں نہ دیا کیا نے میرے سے\n",
      "کس نہ دیا کیا نے میرے سے وطن\n",
      "\n",
      "\n"
     ]
    }
   ],
   "source": [
    "Unigram_Model(data,'ابر احسنی گنوری',stanza_length,verse_min_length,verse_max_length,verse_per_stanza)"
   ]
  },
  {
   "cell_type": "markdown",
   "id": "768830fa",
   "metadata": {},
   "source": [
    "## BIGRAM RESULT"
   ]
  },
  {
   "cell_type": "code",
   "execution_count": 21,
   "id": "25f3b13d",
   "metadata": {},
   "outputs": [
    {
     "name": "stdout",
     "output_type": "stream",
     "text": [
      "کیا یہاں نہیں ہے لوگ کا بیر چھوڑیں مل جل کے\n",
      "کس لئے کو ساری دنیا سنبھل رہی ہے لوگ\n",
      "نے بے شمار دیا تو رہی ہے لوگ\n",
      "میرے لیے تیرا گن گاؤں میں اس زمیں کی\n",
      "\n",
      "\n",
      "چاہیے سر تجھے جھکاؤں میں اس زمیں کی\n",
      "سوتا ہوا کا بیر چھوڑیں مل جل کے\n",
      "پتے ہوا تیری کیا یہاں نہیں ہے لوگ کی یہ\n",
      "دھانوں کی یہ ہی طرح کی یہ نہ کیوں\n",
      "\n",
      "\n",
      "دنیا سنبھل رہی ہے لوگ ہے لوگ ہی\n",
      "کس لئے علم سے کیا یہاں نہیں ہے لوگ جڑے\n",
      "کیا یہاں نہیں ہے لوگ جن کو ساری دنیا سنبھل رہی\n",
      "ایسی زمین پا کر ایک لئے جو میں اس زمیں کی\n",
      "\n",
      "\n",
      "سمجھ دی کہ اک خزانہ اس زمیں کی یہ رہی\n",
      "دنیا سنبھل رہی ہے لوگ کیوں پہاڑ سے کیا\n",
      "میرے لیے تیرا گن گاؤں میں اس زمیں کی یہ یہی\n",
      "آپس کا بیر چھوڑیں مل جل کے ہی مجھے علم سے\n",
      "\n",
      "\n"
     ]
    }
   ],
   "source": [
    "temp=Bigram_Model(data,'ابر احسنی گنوری',stanza_length,verse_min_length,verse_max_length,verse_per_stanza)\n",
    "for i in temp:\n",
    "    print(i)"
   ]
  },
  {
   "cell_type": "markdown",
   "id": "f2dd9982",
   "metadata": {},
   "source": [
    "## TRIGRAM RESULT"
   ]
  },
  {
   "cell_type": "code",
   "execution_count": 22,
   "id": "a7c9b409",
   "metadata": {},
   "outputs": [
    {
     "name": "stdout",
     "output_type": "stream",
     "text": [
      "مکا کس رہی ہے طرح کی لذت ملک کی\n",
      "سمندر یہ سناتے تن کر کے عیش یا بکری کروں\n",
      "کھیتیاں اونٹ ہے یاقوت مجھے سواری دیں ہے کو بھول\n",
      "گرمی مجھ کر بڑھائیں زمیں سے دولت ابل رہی\n",
      "\n",
      "\n",
      "بڑھ کیا کے عیش بتاؤں میں یہ\n",
      "پکھراج میرے ہوئے ہیں دولت ابل رہی ہے یہی\n",
      "میرے اونٹ میں میں نہ جو جگمگاتے\n",
      "کس پھر خوشیاں کیے پیدا گاؤں میں ہے ہوئی ہے\n",
      "\n",
      "\n",
      "جو لازم لوگ تو نے گن نہ\n",
      "کیا پاتا میری کھیتی ساری مخلوق میں\n",
      "کتنا کیا طرح کی لذت سنبھل رہی\n",
      "افلاس میرے جڑے ہوئے ہیں رہی ہے یہ\n",
      "\n",
      "\n",
      "کیا سوتا یہی میری کھیتی کی لذت رہی ہے\n",
      "گرمی سبزے مقدر میں ان کی زمیں ہے\n",
      "کیا دین یہ دیا ہے کو بھول جاؤں میں\n",
      "دودھ میرے لیے کیے پیدا سے سنوار دیا\n",
      "\n",
      "\n"
     ]
    }
   ],
   "source": [
    "temp=Trigram_Model(data,'ابر احسنی گنوری',stanza_length,5,9,verse_per_stanza)\n",
    "for i in temp:\n",
    "    print(i)"
   ]
  },
  {
   "cell_type": "markdown",
   "id": "d7bd1e8e",
   "metadata": {},
   "source": [
    "# BACKWARD BIGRAM MODEL"
   ]
  },
  {
   "cell_type": "code",
   "execution_count": 23,
   "id": "f21bc66c",
   "metadata": {},
   "outputs": [],
   "source": [
    "def Backward_Bigram_Model(dataframe,selected_poet,SL,VMIN,VMAX,VPS):\n",
    "    b=Generate_CFD_Bigram(dataframe,selected_poet)\n",
    "    b=sorted(b.items(), key=lambda x:x[1],reverse=True)\n",
    "    starting_words=get_starting_words(dataframe,selected_poet,'Backward-Bigrams')\n",
    "    first_word=random.sample(starting_words,1)[0]\n",
    "    stanzas=[]\n",
    "    for i in range(SL):\n",
    "        for j in range(VPS):\n",
    "            verse=''+first_word\n",
    "            random_number=np.random.randint(VMIN,VMAX)\n",
    "            for i in range(random_number):\n",
    "                next_value=''\n",
    "                for v in b:\n",
    "                    if v[0].split()[1]==first_word:\n",
    "                        next_value=v[0]\n",
    "                if next_value=='':\n",
    "                    next_value=random.sample(b,1)[0][0]\n",
    "                first_word=next_value.split()[0]\n",
    "                verse=verse+' '+first_word\n",
    "            stanzas.append(verse)\n",
    "            verse=''\n",
    "            first_word=random.sample(starting_words,1)[0]\n",
    "        stanzas.append('\\n')\n",
    "    return stanzas"
   ]
  },
  {
   "cell_type": "code",
   "execution_count": 24,
   "id": "3daf11c7",
   "metadata": {},
   "outputs": [
    {
     "name": "stdout",
     "output_type": "stream",
     "text": [
      "وطن اپنی سمجھوں نہ خوشیاں چنے میں دنیا سنبھلیں موتی یا\n",
      "گھی دودھ تیرا لیے میرے نے چھپی میں دنیا\n",
      "ہے لازم جاؤں بھول احسان ہوئے کھڑے نہ\n",
      "پھول پھل رستہ سیدھا دنیا سنبھلیں پیار کا\n",
      "\n",
      "\n",
      "رستہ سیدھا کو جن کو جن کو جن کو جن کو\n",
      "وطن اپنی سمجھوں نہ خوشیاں یا بیل بھینس\n",
      "زمین ایسی پکاتے یہی بوئیں جوتیں بیل بھینس یا بیل بھینس\n",
      "اور گھنے نے دیں سواری مجھے دیں سواری مجھے دیں\n",
      "\n",
      "\n",
      "کو جن کو جن کو جن کو جن کو جن کو\n",
      "دی تندرستی سے کیا سے کیا سے کیا\n",
      "اور گھنے لہلہاتے کھیت لہلہاتے کھیت لہلہاتے کھیت لہلہاتے کھیت\n",
      "بھی یاقوت کو جن کو جن کو جن کو جن\n",
      "\n",
      "\n",
      "کو جن کو جن کو جن کو جن کو\n",
      "نہیں یہاں کیا سے کیا سے کیا سے کیا سے کیا\n",
      "ہے لازم وطن اپنی سمجھوں نہ خوشیاں گن تیرا لیے میرے\n",
      "ماتا نے لیے میرے نے پیار کا آپس\n",
      "\n",
      "\n"
     ]
    }
   ],
   "source": [
    "temp=Backward_Bigram_Model(data,'ابر احسنی گنوری',stanza_length,verse_min_length,verse_max_length,verse_per_stanza)\n",
    "for i in temp:\n",
    "    print(i)"
   ]
  },
  {
   "cell_type": "markdown",
   "id": "75d26cf6",
   "metadata": {},
   "source": [
    "# BIDIRECTIONAL BIGRAM MODEL"
   ]
  },
  {
   "cell_type": "code",
   "execution_count": 79,
   "id": "b3f974cc",
   "metadata": {},
   "outputs": [],
   "source": [
    "def right_side_Model(dataframe,selected_poet,VMIN,VMAX,word):\n",
    "    b=Generate_CFD_Bigram(dataframe,selected_poet)\n",
    "    b=sorted(b.items(), key=lambda x:x[1],reverse=True)\n",
    "    first_word=word\n",
    "    stanzas=[]\n",
    "    verse=''+first_word\n",
    "    random_number=np.random.randint(VMIN,VMAX)\n",
    "    for i in range(random_number):\n",
    "        next_value=''\n",
    "        for v in b:\n",
    "            if v[0].split()[0]==first_word:\n",
    "                next_value=v[0]\n",
    "        if next_value=='':\n",
    "            next_value=random.sample(b,1)[0][0]\n",
    "        first_word=next_value.split()[1]\n",
    "        verse=verse+' '+first_word\n",
    "    stanzas.append(verse)\n",
    "    return stanzas"
   ]
  },
  {
   "cell_type": "code",
   "execution_count": 88,
   "id": "3e6f76d4",
   "metadata": {},
   "outputs": [],
   "source": [
    "def left_side_Model(dataframe,selected_poet,VMIN,VMAX,word):\n",
    "    b=Generate_CFD_Bigram(dataframe,selected_poet)\n",
    "    b=sorted(b.items(), key=lambda x:x[1],reverse=True)\n",
    "    first_word=word\n",
    "    stanzas=[]\n",
    "    verse=''+first_word\n",
    "    random_number=np.random.randint(VMIN,VMAX)\n",
    "    for i in range(random_number):\n",
    "        next_value=''\n",
    "        for v in b:\n",
    "            if v[0].split()[1]==first_word:\n",
    "                next_value=v[0]\n",
    "        if next_value=='':\n",
    "            next_value=random.sample(b,1)[0][0]\n",
    "        first_word=next_value.split()[0]\n",
    "        verse=verse+' '+first_word\n",
    "    stanzas.append(verse)\n",
    "    return stanzas"
   ]
  },
  {
   "cell_type": "code",
   "execution_count": 110,
   "id": "03431d56",
   "metadata": {},
   "outputs": [],
   "source": [
    "def Bidirectional_Bigram_Model(dataframe,VMIN,VMAX,words,selected_poet):\n",
    "    word=random.sample(words,1)[0]\n",
    "    right_side=right_side_Model(dataframe,selected_poet,VMIN,VMAX,word)\n",
    "    left_side=left_side_Model(dataframe,selected_poet,VMIN,VMAX,word)\n",
    "    return right_side,left_side"
   ]
  },
  {
   "cell_type": "code",
   "execution_count": 132,
   "id": "29ae100e",
   "metadata": {},
   "outputs": [
    {
     "name": "stdout",
     "output_type": "stream",
     "text": [
      "کا اک خزانہ اس زمیں کی \n",
      "خوشیاں آپس کا بیر چھوڑیں مل \n",
      "بیل یا بھینس بیل یا موتی \n",
      "مجھ روشنی مٹی سونا اگل رہی \n",
      "\n",
      "\n",
      "اگل آپس کا بیر چھوڑیں مل \n",
      "جوتیں بوئیں یہی میری کھیتی ہے \n",
      "جوتیں بوئیں یہی میری کھیتی بڑھائیں \n",
      "اونٹ گھوڑے پہاڑ سے کیا یہاں \n",
      "\n",
      "\n",
      "کیا سے مٹی سونا اگل رہی \n",
      "اٹھا بل پہ ساری دنیا سنبھل \n",
      "سنبھلیں خوشیاں نہ کیوں ہوئے ہیں \n",
      "یا بھینس بیل یا موتی جڑے \n",
      "\n",
      "\n",
      "آبرو یاقوت بھی یہی میری کھیتی \n",
      "ایسی زمین پا کر ایک مخلوق \n",
      "ساری سنبھلیں دنیا سنبھل رہی ہے \n",
      "کو نے میرے لیے تیرا گن \n",
      "\n",
      "\n"
     ]
    }
   ],
   "source": [
    "center_words=get_center_words(data,'ابر احسنی گنوری')\n",
    "for i in range(stanza_length):\n",
    "    for j in range(verse_per_stanza):\n",
    "        a,b=Bidirectional_Bigram_Model(data,3,4,center_words,'ابر احسنی گنوری')\n",
    "        temp=''\n",
    "        for k in reversed(b[0].split()[:-1]):\n",
    "            temp=temp+k+' '\n",
    "        for k in a[0].split()[1:]:\n",
    "            temp=temp+k+' '\n",
    "        print(temp)\n",
    "    print('\\n')"
   ]
  },
  {
   "cell_type": "markdown",
   "id": "ae7fa18b",
   "metadata": {},
   "source": [
    "# THE BEAUTIFUL AND POWERFUL END OF THE NOTEBOOK"
   ]
  }
 ],
 "metadata": {
  "kernelspec": {
   "display_name": "Python 3 (ipykernel)",
   "language": "python",
   "name": "python3"
  },
  "language_info": {
   "codemirror_mode": {
    "name": "ipython",
    "version": 3
   },
   "file_extension": ".py",
   "mimetype": "text/x-python",
   "name": "python",
   "nbconvert_exporter": "python",
   "pygments_lexer": "ipython3",
   "version": "3.11.4"
  }
 },
 "nbformat": 4,
 "nbformat_minor": 5
}
